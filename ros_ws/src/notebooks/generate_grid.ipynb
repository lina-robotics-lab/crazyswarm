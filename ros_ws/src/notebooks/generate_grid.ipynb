{
 "cells": [
  {
   "cell_type": "code",
   "execution_count": 1,
   "metadata": {},
   "outputs": [],
   "source": [
    "import numpy as np"
   ]
  },
  {
   "cell_type": "code",
   "execution_count": 22,
   "metadata": {},
   "outputs": [],
   "source": [
    "def grid(world_shape, step_size, start_loc):\n",
    "    \"\"\"\n",
    "    Creates grids of coordinates and indices of state space\n",
    "    Parameters\n",
    "    ----------\n",
    "    world_shape: tuple\n",
    "        Size of the grid world (rows, columns)\n",
    "    step_size: tuple\n",
    "        Phyiscal step size in the grid world\n",
    "    Returns\n",
    "    -------\n",
    "    states_ind: np.array\n",
    "        (n*m) x 2 array containing the indices of the states\n",
    "    states_coord: np.array\n",
    "        (n*m) x 2 array containing the coordinates of the states\n",
    "    \"\"\"\n",
    "    nodes = np.arange(0, world_shape[\"x\"] * world_shape[\"y\"])\n",
    "    return nodes_to_states(nodes, world_shape, step_size) + start_loc\n",
    "\n",
    "\n",
    "def nodes_to_states(nodes, world_shape, step_size):\n",
    "    \"\"\"Convert node numbers to physical states.\n",
    "    Parameters\n",
    "    ----------\n",
    "    nodes: np.array\n",
    "        Node indices of the grid world\n",
    "    world_shape: tuple\n",
    "        The size of the grid_world\n",
    "    step_size: np.array\n",
    "        The step size of the grid world\n",
    "    Returns\n",
    "    -------\n",
    "    states: np.array\n",
    "        The states in physical coordinates\n",
    "    \"\"\"\n",
    "    # nodes = torch.as_tensor(nodes)\n",
    "    # step_size = torch.as_tensor(step_size)\n",
    "    return (\n",
    "        np.vstack(\n",
    "            ((nodes // world_shape[\"y\"]), (nodes % world_shape[\"y\"]))).T\n",
    "        * step_size\n",
    "    )"
   ]
  },
  {
   "cell_type": "code",
   "execution_count": 3,
   "metadata": {},
   "outputs": [
    {
     "ename": "TypeError",
     "evalue": "'int' object is not subscriptable",
     "output_type": "error",
     "traceback": [
      "\u001b[0;31m---------------------------------------------------------------------------\u001b[0m",
      "\u001b[0;31mTypeError\u001b[0m                                 Traceback (most recent call last)",
      "Cell \u001b[0;32mIn[3], line 1\u001b[0m\n\u001b[0;32m----> 1\u001b[0m grid(\u001b[39m8\u001b[39;49m, \u001b[39m0.5\u001b[39;49m, (\u001b[39m0\u001b[39;49m, \u001b[39m0\u001b[39;49m))\n",
      "Cell \u001b[0;32mIn[2], line 17\u001b[0m, in \u001b[0;36mgrid\u001b[0;34m(world_shape, step_size, start_loc)\u001b[0m\n\u001b[1;32m      1\u001b[0m \u001b[39mdef\u001b[39;00m \u001b[39mgrid\u001b[39m(world_shape, step_size, start_loc):\n\u001b[1;32m      2\u001b[0m \u001b[39m    \u001b[39m\u001b[39m\"\"\"\u001b[39;00m\n\u001b[1;32m      3\u001b[0m \u001b[39m    Creates grids of coordinates and indices of state space\u001b[39;00m\n\u001b[1;32m      4\u001b[0m \u001b[39m    Parameters\u001b[39;00m\n\u001b[0;32m   (...)\u001b[0m\n\u001b[1;32m     15\u001b[0m \u001b[39m        (n*m) x 2 array containing the coordinates of the states\u001b[39;00m\n\u001b[1;32m     16\u001b[0m \u001b[39m    \"\"\"\u001b[39;00m\n\u001b[0;32m---> 17\u001b[0m     nodes \u001b[39m=\u001b[39m np\u001b[39m.\u001b[39marange(\u001b[39m0\u001b[39m, world_shape[\u001b[39m\"\u001b[39;49m\u001b[39mx\u001b[39;49m\u001b[39m\"\u001b[39;49m] \u001b[39m*\u001b[39m world_shape[\u001b[39m\"\u001b[39m\u001b[39my\u001b[39m\u001b[39m\"\u001b[39m])\n\u001b[1;32m     18\u001b[0m     \u001b[39mreturn\u001b[39;00m nodes_to_states(nodes, world_shape, step_size) \u001b[39m+\u001b[39m start_loc\n",
      "\u001b[0;31mTypeError\u001b[0m: 'int' object is not subscriptable"
     ]
    }
   ],
   "source": [
    "grid(8, 0.5, (0, 0))"
   ]
  },
  {
   "cell_type": "code",
   "execution_count": 4,
   "metadata": {},
   "outputs": [],
   "source": [
    "import pandas as pd\n"
   ]
  },
  {
   "cell_type": "code",
   "execution_count": 23,
   "metadata": {},
   "outputs": [
    {
     "data": {
      "text/plain": [
       "array([88])"
      ]
     },
     "execution_count": 23,
     "metadata": {},
     "output_type": "execute_result"
    }
   ],
   "source": [
    "traj_data = pd.read_csv('/home/mht/csw_ws/crazyswarm/ros_ws/src/crazyswarm/traj_data/real_base_double/data.csv')\n",
    "single_step = traj_data[traj_data['iter'] == 0]\n",
    "single_step['idx_agent0'].values\n",
    "# traj_data[traj_data[\"instant_regret\"] == 0]"
   ]
  },
  {
   "cell_type": "code",
   "execution_count": 19,
   "metadata": {},
   "outputs": [
    {
     "data": {
      "text/plain": [
       "pandas.core.series.Series"
      ]
     },
     "execution_count": 19,
     "metadata": {},
     "output_type": "execute_result"
    }
   ],
   "source": [
    "type(single_step[\"idx_measure0\"])"
   ]
  },
  {
   "cell_type": "code",
   "execution_count": null,
   "metadata": {},
   "outputs": [],
   "source": []
  }
 ],
 "metadata": {
  "kernelspec": {
   "display_name": "Python 3",
   "language": "python",
   "name": "python3"
  },
  "language_info": {
   "codemirror_mode": {
    "name": "ipython",
    "version": 3
   },
   "file_extension": ".py",
   "mimetype": "text/x-python",
   "name": "python",
   "nbconvert_exporter": "python",
   "pygments_lexer": "ipython3",
   "version": "3.8.10"
  },
  "orig_nbformat": 4
 },
 "nbformat": 4,
 "nbformat_minor": 2
}
